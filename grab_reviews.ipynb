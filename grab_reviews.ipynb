{
 "cells": [
  {
   "cell_type": "code",
   "execution_count": 1,
   "metadata": {
    "collapsed": true
   },
   "outputs": [],
   "source": [
    "import os\n",
    "import datetime\n",
    "import re\n",
    "\n",
    "import pandas as pd\n",
    "import requests\n",
    "import time\n",
    "from bs4 import BeautifulSoup\n",
    "from collections import defaultdict, Counter\n",
    "import random\n",
    "\n",
    "import warnings"
   ]
  },
  {
   "cell_type": "markdown",
   "source": [
    "1. Grabbing reviews from Rotten Tomatoes"
   ],
   "metadata": {
    "collapsed": false
   }
  },
  {
   "cell_type": "code",
   "execution_count": 10,
   "outputs": [],
   "source": [
    "#dictionary of Oscar awarded movies\n",
    "movies = {'Everything Everywhere All at Once':'https://www.rottentomatoes.com/m/everything_everywhere_all_at_once/reviews',\n",
    "          'CODA':'https://www.rottentomatoes.com/m/coda_2021/reviews',\n",
    "          'Nomadland':'https://www.rottentomatoes.com/m/nomadland/reviews',\n",
    "          'Parasite':'https://www.rottentomatoes.com/m/parasite_2019/reviews',\n",
    "          'Greenbook':'https://www.rottentomatoes.com/m/green_book/reviews',\n",
    "          'The Shape of Water':'https://www.rottentomatoes.com/m/the_shape_of_water_2017/reviews',\n",
    "          'Moonlight':'https://www.rottentomatoes.com/m/moonlight_2016/reviews',\n",
    "          'Spotlight':'https://www.rottentomatoes.com/m/spotlight_2015/reviews',\n",
    "          'Birdman':'https://www.rottentomatoes.com/m/birdman_2014/reviews',\n",
    "          '12 Years a Slave':'https://www.rottentomatoes.com/m/12_years_a_slave/reviews',\n",
    "          'Argo':'https://www.rottentomatoes.com/m/argo_2012/reviews',\n",
    "          'The Artist':'https://www.rottentomatoes.com/m/the_artist/reviews',\n",
    "          'The Kings Speech':'https://www.rottentomatoes.com/m/the_kings_speech/reviews',\n",
    "          'The Hurt Locker':'https://www.rottentomatoes.com/m/the_hurt_locker/reviews',\n",
    "          'Slumdog Millionaire':'https://www.rottentomatoes.com/m/slumdog_millionaire/reviews'}"
   ],
   "metadata": {
    "collapsed": false
   }
  },
  {
   "cell_type": "code",
   "execution_count": 19,
   "outputs": [],
   "source": [
    "#dictionary of popular rotten tomato movies\n",
    "movies = {'Reptile':'https://www.rottentomatoes.com/m/reptile_2023/reviews',\n",
    "          'The Wonderful Story of Henry Sugar':'https://www.rottentomatoes.com/m/the_wonderful_story_of_henry_sugar/reviews',\n",
    "          'No One Will Save You':'https://www.rottentomatoes.com/m/no_one_will_save_you/reviews',\n",
    "          'The Beasts':'https://www.rottentomatoes.com/m/the_beasts/reviews',\n",
    "          'Talk to Me':'https://www.rottentomatoes.com/m/talk_to_me_2023/reviews',\n",
    "          'Gran Turismo':'https://www.rottentomatoes.com/m/gran_turismo_based_on_a_true_story/reviews',\n",
    "          'Blue Beetle':'https://www.rottentomatoes.com/m/blue_beetle/reviews',\n",
    "          'Bottoms':'https://www.rottentomatoes.com/m/bottoms/reviews',\n",
    "          'A Million Miles Away':'https://www.rottentomatoes.com/m/a_million_miles_away_2023/reviews',\n",
    "          'Flora and Son':'https://www.rottentomatoes.com/m/flora_and_son/reviews',\n",
    "          'Guy Ritchies the Convenant':'https://www.rottentomatoes.com/m/guy_ritchies_the_covenant/reviews',\n",
    "          'Nowhere':'https://www.rottentomatoes.com/m/nowhere_2023_2/reviews',\n",
    "          'Barbie':'https://www.rottentomatoes.com/m/barbie/reviews',\n",
    "          'The Machine':'https://www.rottentomatoes.com/m/the_machine_2023/reviews',\n",
    "          'Past Lives':'https://www.rottentomatoes.com/m/past_lives/reviews',\n",
    "          'Stop Making Sense':'https://www.rottentomatoes.com/m/stop_making_sense/reviews',\n",
    "          'Saw':'https://www.rottentomatoes.com/m/saw/reviews',\n",
    "          'Megalomaniac':'https://www.rottentomatoes.com/m/megalomaniac/reviews',\n",
    "          'Elemental':'https://www.rottentomatoes.com/m/elemental_2023/reviews',\n",
    "          'Spider Man: Across the Spider-Verse':'https://www.rottentomatoes.com/m/spider_man_across_the_spider_verse/reviews'\n",
    "}"
   ],
   "metadata": {
    "collapsed": false
   }
  },
  {
   "cell_type": "code",
   "execution_count": 20,
   "outputs": [],
   "source": [
    "movie_data = []\n",
    "\n",
    "for movie, url in movies.items():\n",
    "\n",
    "    response = requests.get(url)\n",
    "\n",
    "    if response.status_code == 200:\n",
    "\n",
    "        soup = BeautifulSoup(response.content, 'html.parser')\n",
    "        critic_reviews_section = soup.find('div', class_='layout reviews-page-container')\n",
    "\n",
    "        if critic_reviews_section:\n",
    "\n",
    "            critic_reviews = critic_reviews_section.find_all('div', class_=\"review-row\")\n",
    "\n",
    "            for review in critic_reviews:\n",
    "                critic_name = review.find('a', class_='display-name').text.strip()\n",
    "                critic_rating = review.find('score-icon-critic-deprecated').get('state')\n",
    "                og_score = review.find('p', class_='original-score-and-url').text.strip()\n",
    "                elems = og_score.split('Original Score:')\n",
    "                critic_og_score = elems[1].split()[0] if len(elems) > 1 else ''\n",
    "                critic_text = review.find('p', class_='review-text').text.strip()\n",
    "                critic_date = review.find('span', attrs={'data-qa': 'review-date'}).text.strip()\n",
    "\n",
    "                # create a dictionary for current movie\n",
    "                movie_entry = {\n",
    "                    'Movie': movie,\n",
    "                    'Critic Name': critic_name,\n",
    "                    'Critic Rating': critic_rating,\n",
    "                    'Critic Original Score': critic_og_score,\n",
    "                    'Critic Text': critic_text,\n",
    "                    'Critic Date': critic_date\n",
    "                }\n",
    "\n",
    "                movie_data.append(movie_entry)\n",
    "\n",
    "        else:\n",
    "            print(f\"No critic reviews found for {movie}.\\n\")\n",
    "\n",
    "    else:\n",
    "        print(f\"Failed to retrieve data for {movie}. Status code: {response.status_code}\\n\")\n",
    "\n",
    "# create dataframe with all rotten tomato reviews\n",
    "top_df = pd.DataFrame(movie_data)"
   ],
   "metadata": {
    "collapsed": false
   }
  },
  {
   "cell_type": "markdown",
   "source": [
    "1.1 Iterate twice to grab 2 separate dataframes"
   ],
   "metadata": {
    "collapsed": false
   }
  },
  {
   "cell_type": "code",
   "execution_count": 26,
   "outputs": [
    {
     "name": "stdout",
     "output_type": "stream",
     "text": [
      "DataFrame saved as datasets/rt_data.csv\n"
     ]
    }
   ],
   "source": [
    "folder_path = 'datasets'\n",
    "\n",
    "if not os.path.exists(folder_path):\n",
    "    os.makedirs(folder_path)\n",
    "\n",
    "csv_file = 'rt_data.csv'\n",
    "csv_file = os.path.join(folder_path, csv_file)\n",
    "merge_rt.to_csv(csv_file, index=False)\n",
    "\n",
    "print(f'DataFrame saved as {csv_file}')"
   ],
   "metadata": {
    "collapsed": false
   }
  },
  {
   "cell_type": "markdown",
   "source": [
    "2. Combine TMbd movie reviews into one dataframe"
   ],
   "metadata": {
    "collapsed": false
   }
  },
  {
   "cell_type": "code",
   "execution_count": 30,
   "outputs": [
    {
     "data": {
      "text/plain": "   movie_id  review_rating                                     review_content  \\\n0    565770            7.0  MORE SPOILER-FREE MINI-REVIEWS @ https://www.m...   \n1    565770            NaN  ⁃ Some months before release: 'Nah, it looks t...   \n2    565770            6.0  Maybe this should just have been called the \"B...   \n3    565770            7.0         Blue beetle is very awesome!! WoW!👏🏻👏🏻👍🏻👍🏻   \n4    565770            6.0  The Good: Light-hearted and family centric. Lo...   \n\n       id  movie_title  sentiment  \n0  565770  Blue Beetle        NaN  \n1  565770  Blue Beetle        NaN  \n2  565770  Blue Beetle        NaN  \n3  565770  Blue Beetle        NaN  \n4  565770  Blue Beetle        NaN  ",
      "text/html": "<div>\n<style scoped>\n    .dataframe tbody tr th:only-of-type {\n        vertical-align: middle;\n    }\n\n    .dataframe tbody tr th {\n        vertical-align: top;\n    }\n\n    .dataframe thead th {\n        text-align: right;\n    }\n</style>\n<table border=\"1\" class=\"dataframe\">\n  <thead>\n    <tr style=\"text-align: right;\">\n      <th></th>\n      <th>movie_id</th>\n      <th>review_rating</th>\n      <th>review_content</th>\n      <th>id</th>\n      <th>movie_title</th>\n      <th>sentiment</th>\n    </tr>\n  </thead>\n  <tbody>\n    <tr>\n      <th>0</th>\n      <td>565770</td>\n      <td>7.0</td>\n      <td>MORE SPOILER-FREE MINI-REVIEWS @ https://www.m...</td>\n      <td>565770</td>\n      <td>Blue Beetle</td>\n      <td>NaN</td>\n    </tr>\n    <tr>\n      <th>1</th>\n      <td>565770</td>\n      <td>NaN</td>\n      <td>⁃ Some months before release: 'Nah, it looks t...</td>\n      <td>565770</td>\n      <td>Blue Beetle</td>\n      <td>NaN</td>\n    </tr>\n    <tr>\n      <th>2</th>\n      <td>565770</td>\n      <td>6.0</td>\n      <td>Maybe this should just have been called the \"B...</td>\n      <td>565770</td>\n      <td>Blue Beetle</td>\n      <td>NaN</td>\n    </tr>\n    <tr>\n      <th>3</th>\n      <td>565770</td>\n      <td>7.0</td>\n      <td>Blue beetle is very awesome!! WoW!👏🏻👏🏻👍🏻👍🏻</td>\n      <td>565770</td>\n      <td>Blue Beetle</td>\n      <td>NaN</td>\n    </tr>\n    <tr>\n      <th>4</th>\n      <td>565770</td>\n      <td>6.0</td>\n      <td>The Good: Light-hearted and family centric. Lo...</td>\n      <td>565770</td>\n      <td>Blue Beetle</td>\n      <td>NaN</td>\n    </tr>\n  </tbody>\n</table>\n</div>"
     },
     "execution_count": 30,
     "metadata": {},
     "output_type": "execute_result"
    }
   ],
   "source": [
    "import numpy as np\n",
    "\n",
    "reviews_df = pd.read_csv('/Users/jvo/DataspellProjects/ads509-movie-scrape/datasets/tmdb_df_reviews.csv')\n",
    "movies_df = pd.read_csv( '/Users/jvo/DataspellProjects/ads509-movie-scrape/datasets/tmdb_df_movies.csv')\n",
    "\n",
    "merged_df = pd.merge(reviews_df[['movie_id', 'rating', 'content']],\n",
    "                     movies_df[['id', 'title']],\n",
    "                     left_on='movie_id', right_on='id',\n",
    "                     how='inner')\n",
    "\n",
    "# Rename the columns if needed\n",
    "merged_df = merged_df.rename(columns={'rating': 'review_rating', 'content': 'review_content', 'title': 'movie_title'})\n",
    "merged_df['sentiment'] = np.nan\n",
    "merged_df.head()"
   ],
   "metadata": {
    "collapsed": false
   }
  },
  {
   "cell_type": "code",
   "execution_count": 31,
   "outputs": [
    {
     "name": "stdout",
     "output_type": "stream",
     "text": [
      "DataFrame saved as datasets/tmbd_data.csv\n"
     ]
    }
   ],
   "source": [
    "folder_path = 'datasets'\n",
    "\n",
    "if not os.path.exists(folder_path):\n",
    "    os.makedirs(folder_path)\n",
    "\n",
    "csv_file = 'tmbd_data.csv'\n",
    "csv_file = os.path.join(folder_path, csv_file)\n",
    "merged_df.to_csv(csv_file, index=False)\n",
    "\n",
    "print(f'DataFrame saved as {csv_file}')"
   ],
   "metadata": {
    "collapsed": false
   }
  },
  {
   "cell_type": "markdown",
   "source": [
    "3. Combine TMbd and Rotten Tomato reviews"
   ],
   "metadata": {
    "collapsed": false
   }
  },
  {
   "cell_type": "code",
   "execution_count": 51,
   "outputs": [],
   "source": [
    "tmbd = pd.read_csv('/Users/jvo/DataspellProjects/ads509-movie-scrape/datasets/tmbd_data.csv')\n",
    "rt = pd.read_csv('/Users/jvo/DataspellProjects/ads509-movie-scrape/datasets/rt_data.csv')"
   ],
   "metadata": {
    "collapsed": false
   }
  },
  {
   "cell_type": "code",
   "execution_count": 52,
   "outputs": [],
   "source": [
    "rt = rt.rename(columns={\n",
    "    'Movie': 'movie_title',\n",
    "    'Critic Original Score': 'review_rating',\n",
    "    'Critic Text': 'review_content',\n",
    "    'Critic Rating': 'sentiment'\n",
    "})\n",
    "tmbd = tmbd[['movie_title', 'review_rating', 'review_content', 'sentiment']]\n",
    "rt = rt[['movie_title', 'review_rating', 'review_content', 'sentiment']]\n",
    "all_df = pd.concat([tmbd, rt], ignore_index=True)"
   ],
   "metadata": {
    "collapsed": false
   }
  },
  {
   "cell_type": "markdown",
   "source": [
    "4. Pre-processing"
   ],
   "metadata": {
    "collapsed": false
   }
  },
  {
   "cell_type": "code",
   "execution_count": 56,
   "outputs": [],
   "source": [
    "all_df = all_df.dropna(subset=['review_rating', 'sentiment'], how='all')\n",
    "all_df['review_rating'] = pd.to_numeric(all_df['review_rating'], errors='coerce')\n",
    "\n",
    "subset = all_df[all_df['sentiment'].isna()]\n",
    "\n",
    "# match tmbd ratings to rotten tomato\n",
    "def assign_sentiment(rating):\n",
    "    if rating >= 5:\n",
    "        return 'fresh'\n",
    "    else:\n",
    "        return 'rotten'\n",
    "\n",
    "subset.loc[:, 'sentiment'] = subset['review_rating'].apply(assign_sentiment)\n",
    "all_df.loc[subset.index, 'sentiment'] = subset['sentiment']\n",
    "\n",
    "sentiment_mapping = {'fresh': 'good', 'rotten': 'bad'}\n",
    "# Use the replace function to replace the values in the 'sentiment' column\n",
    "all_df['sentiment'] = all_df['sentiment'].replace(sentiment_mapping)"
   ],
   "metadata": {
    "collapsed": false
   }
  },
  {
   "cell_type": "code",
   "execution_count": 57,
   "outputs": [
    {
     "name": "stdout",
     "output_type": "stream",
     "text": [
      "DataFrame saved as datasets/all_tmbd_rt_data.csv\n"
     ]
    }
   ],
   "source": [
    "all_csv_file = 'all_tmbd_rt_data.csv'\n",
    "all_csv_file = os.path.join(folder_path, all_csv_file)\n",
    "all_df.to_csv(all_csv_file, index=False)\n",
    "print(f'DataFrame saved as {all_csv_file}')"
   ],
   "metadata": {
    "collapsed": false
   }
  }
 ],
 "metadata": {
  "kernelspec": {
   "display_name": "Python 3",
   "language": "python",
   "name": "python3"
  },
  "language_info": {
   "codemirror_mode": {
    "name": "ipython",
    "version": 2
   },
   "file_extension": ".py",
   "mimetype": "text/x-python",
   "name": "python",
   "nbconvert_exporter": "python",
   "pygments_lexer": "ipython2",
   "version": "2.7.6"
  }
 },
 "nbformat": 4,
 "nbformat_minor": 0
}
