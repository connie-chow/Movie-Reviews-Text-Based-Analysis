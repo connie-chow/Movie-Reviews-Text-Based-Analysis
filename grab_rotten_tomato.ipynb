{
 "cells": [
  {
   "cell_type": "code",
   "execution_count": 48,
   "metadata": {
    "collapsed": true
   },
   "outputs": [],
   "source": [
    "import os\n",
    "import datetime\n",
    "import re\n",
    "\n",
    "import pandas as pd\n",
    "# for the lyrics scrape section\n",
    "import requests\n",
    "import time\n",
    "from bs4 import BeautifulSoup\n",
    "from collections import defaultdict, Counter\n",
    "import random\n",
    "\n",
    "import warnings"
   ]
  },
  {
   "cell_type": "code",
   "execution_count": 49,
   "outputs": [],
   "source": [
    "movies = {'Everything Everywhere All at Once':'https://www.rottentomatoes.com/m/everything_everywhere_all_at_once/reviews',\n",
    "          'CODA':'https://www.rottentomatoes.com/m/coda_2021/reviews',\n",
    "          'Nomadland':'https://www.rottentomatoes.com/m/nomadland/reviews',\n",
    "          'Parasite':'https://www.rottentomatoes.com/m/parasite_2019/reviews',\n",
    "          'Greenbook':'https://www.rottentomatoes.com/m/green_book/reviews',\n",
    "          'The Shape of Water':'https://www.rottentomatoes.com/m/the_shape_of_water_2017/reviews',\n",
    "          'Moonlight':'https://www.rottentomatoes.com/m/moonlight_2016/reviews',\n",
    "          'Spotlight':'https://www.rottentomatoes.com/m/spotlight_2015/reviews',\n",
    "          'Birdman':'https://www.rottentomatoes.com/m/birdman_2014/reviews',\n",
    "          '12 Years a Slave':'https://www.rottentomatoes.com/m/12_years_a_slave/reviews',\n",
    "          'Argo':'https://www.rottentomatoes.com/m/argo_2012/reviews',\n",
    "          'The Artist':'https://www.rottentomatoes.com/m/the_artist/reviews',\n",
    "          'The Kings Speech':'https://www.rottentomatoes.com/m/the_kings_speech/reviews',\n",
    "          'The Hurt Locker':'https://www.rottentomatoes.com/m/the_hurt_locker/reviews',\n",
    "          'Slumdog Millionaire':'https://www.rottentomatoes.com/m/slumdog_millionaire/reviews'}"
   ],
   "metadata": {
    "collapsed": false
   }
  },
  {
   "cell_type": "code",
   "execution_count": 50,
   "outputs": [
    {
     "data": {
      "text/plain": "                                 Movie          Critic Name Critic Rating  \\\n0    Everything Everywhere All at Once     Shahbaz Siddiqui         fresh   \n1    Everything Everywhere All at Once  Christian Eulinberg         fresh   \n2    Everything Everywhere All at Once        Gautam Sunder         fresh   \n3    Everything Everywhere All at Once        Sarah Vincent         fresh   \n4    Everything Everywhere All at Once      Emma-Jane Betts         fresh   \n..                                 ...                  ...           ...   \n295                Slumdog Millionaire         Harry Kloman        rotten   \n296                Slumdog Millionaire      Virginia Montes        rotten   \n297                Slumdog Millionaire        Shubhra Gupta         fresh   \n298                Slumdog Millionaire          Vadim Rizov        rotten   \n299                Slumdog Millionaire           Jason Best         fresh   \n\n    Critic Original Score                                        Critic Text  \\\n0                          Everything Everywhere All at Once is beautiful...   \n1                          The Daniels accomplished something wonderful f...   \n2                          Michelle Yeoh finally gets a role this decade ...   \n3                     3/4  The genre mashup provides a fuller insight int...   \n4                     5/5  Everything Everywhere All at Once will remind ...   \n..                    ...                                                ...   \n295                        It's a big spoonful of sugar, and I suspect it...   \n296                   2/5  Slumdog Millionaire is a film loaded with clic...   \n297                        It's not about poverty pornography. It's not a...   \n298                        Slumdog is instantly recognizable, but rarely ...   \n299                        As cinematographer Anthony Dod Mantle's camera...   \n\n      Critic Date  \n0    Sep 27, 2023  \n1    Sep 26, 2023  \n2    Sep 12, 2023  \n3    Aug 16, 2023  \n4    Jul 27, 2023  \n..            ...  \n295  Feb 27, 2018  \n296  Feb 27, 2018  \n297  Jan 27, 2018  \n298  Dec 13, 2017  \n299  May 21, 2017  \n\n[300 rows x 6 columns]",
      "text/html": "<div>\n<style scoped>\n    .dataframe tbody tr th:only-of-type {\n        vertical-align: middle;\n    }\n\n    .dataframe tbody tr th {\n        vertical-align: top;\n    }\n\n    .dataframe thead th {\n        text-align: right;\n    }\n</style>\n<table border=\"1\" class=\"dataframe\">\n  <thead>\n    <tr style=\"text-align: right;\">\n      <th></th>\n      <th>Movie</th>\n      <th>Critic Name</th>\n      <th>Critic Rating</th>\n      <th>Critic Original Score</th>\n      <th>Critic Text</th>\n      <th>Critic Date</th>\n    </tr>\n  </thead>\n  <tbody>\n    <tr>\n      <th>0</th>\n      <td>Everything Everywhere All at Once</td>\n      <td>Shahbaz Siddiqui</td>\n      <td>fresh</td>\n      <td></td>\n      <td>Everything Everywhere All at Once is beautiful...</td>\n      <td>Sep 27, 2023</td>\n    </tr>\n    <tr>\n      <th>1</th>\n      <td>Everything Everywhere All at Once</td>\n      <td>Christian Eulinberg</td>\n      <td>fresh</td>\n      <td></td>\n      <td>The Daniels accomplished something wonderful f...</td>\n      <td>Sep 26, 2023</td>\n    </tr>\n    <tr>\n      <th>2</th>\n      <td>Everything Everywhere All at Once</td>\n      <td>Gautam Sunder</td>\n      <td>fresh</td>\n      <td></td>\n      <td>Michelle Yeoh finally gets a role this decade ...</td>\n      <td>Sep 12, 2023</td>\n    </tr>\n    <tr>\n      <th>3</th>\n      <td>Everything Everywhere All at Once</td>\n      <td>Sarah Vincent</td>\n      <td>fresh</td>\n      <td>3/4</td>\n      <td>The genre mashup provides a fuller insight int...</td>\n      <td>Aug 16, 2023</td>\n    </tr>\n    <tr>\n      <th>4</th>\n      <td>Everything Everywhere All at Once</td>\n      <td>Emma-Jane Betts</td>\n      <td>fresh</td>\n      <td>5/5</td>\n      <td>Everything Everywhere All at Once will remind ...</td>\n      <td>Jul 27, 2023</td>\n    </tr>\n    <tr>\n      <th>...</th>\n      <td>...</td>\n      <td>...</td>\n      <td>...</td>\n      <td>...</td>\n      <td>...</td>\n      <td>...</td>\n    </tr>\n    <tr>\n      <th>295</th>\n      <td>Slumdog Millionaire</td>\n      <td>Harry Kloman</td>\n      <td>rotten</td>\n      <td></td>\n      <td>It's a big spoonful of sugar, and I suspect it...</td>\n      <td>Feb 27, 2018</td>\n    </tr>\n    <tr>\n      <th>296</th>\n      <td>Slumdog Millionaire</td>\n      <td>Virginia Montes</td>\n      <td>rotten</td>\n      <td>2/5</td>\n      <td>Slumdog Millionaire is a film loaded with clic...</td>\n      <td>Feb 27, 2018</td>\n    </tr>\n    <tr>\n      <th>297</th>\n      <td>Slumdog Millionaire</td>\n      <td>Shubhra Gupta</td>\n      <td>fresh</td>\n      <td></td>\n      <td>It's not about poverty pornography. It's not a...</td>\n      <td>Jan 27, 2018</td>\n    </tr>\n    <tr>\n      <th>298</th>\n      <td>Slumdog Millionaire</td>\n      <td>Vadim Rizov</td>\n      <td>rotten</td>\n      <td></td>\n      <td>Slumdog is instantly recognizable, but rarely ...</td>\n      <td>Dec 13, 2017</td>\n    </tr>\n    <tr>\n      <th>299</th>\n      <td>Slumdog Millionaire</td>\n      <td>Jason Best</td>\n      <td>fresh</td>\n      <td></td>\n      <td>As cinematographer Anthony Dod Mantle's camera...</td>\n      <td>May 21, 2017</td>\n    </tr>\n  </tbody>\n</table>\n<p>300 rows × 6 columns</p>\n</div>"
     },
     "execution_count": 50,
     "metadata": {},
     "output_type": "execute_result"
    }
   ],
   "source": [
    "movie_data = []\n",
    "\n",
    "for movie, url in movies.items():\n",
    "\n",
    "    response = requests.get(url)\n",
    "\n",
    "    if response.status_code == 200:\n",
    "\n",
    "        soup = BeautifulSoup(response.content, 'html.parser')\n",
    "        critic_reviews_section = soup.find('div', class_='layout reviews-page-container')\n",
    "\n",
    "        if critic_reviews_section:\n",
    "\n",
    "            critic_reviews = critic_reviews_section.find_all('div', class_=\"review-row\")\n",
    "\n",
    "            for review in critic_reviews:\n",
    "                critic_name = review.find('a', class_='display-name').text.strip()\n",
    "                critic_rating = review.find('score-icon-critic-deprecated').get('state')\n",
    "                og_score = review.find('p', class_='original-score-and-url').text.strip()\n",
    "                elems = og_score.split('Original Score:')\n",
    "                critic_og_score = elems[1].split()[0] if len(elems) > 1 else ''\n",
    "                critic_text = review.find('p', class_='review-text').text.strip()\n",
    "                critic_date = review.find('span', attrs={'data-qa': 'review-date'}).text.strip()\n",
    "\n",
    "                # create a dictionary for current movie\n",
    "                movie_entry = {\n",
    "                    'Movie': movie,\n",
    "                    'Critic Name': critic_name,\n",
    "                    'Critic Rating': critic_rating,\n",
    "                    'Critic Original Score': critic_og_score,\n",
    "                    'Critic Text': critic_text,\n",
    "                    'Critic Date': critic_date\n",
    "                }\n",
    "\n",
    "                movie_data.append(movie_entry)\n",
    "\n",
    "        else:\n",
    "            print(f\"No critic reviews found for {movie}.\\n\")\n",
    "\n",
    "    else:\n",
    "        print(f\"Failed to retrieve data for {movie}. Status code: {response.status_code}\\n\")\n",
    "\n",
    "# create dataframe with all rotten tomato reviews\n",
    "rt_df = pd.DataFrame(movie_data)\n",
    "rt_df"
   ],
   "metadata": {
    "collapsed": false
   }
  }
 ],
 "metadata": {
  "kernelspec": {
   "display_name": "Python 3",
   "language": "python",
   "name": "python3"
  },
  "language_info": {
   "codemirror_mode": {
    "name": "ipython",
    "version": 2
   },
   "file_extension": ".py",
   "mimetype": "text/x-python",
   "name": "python",
   "nbconvert_exporter": "python",
   "pygments_lexer": "ipython2",
   "version": "2.7.6"
  }
 },
 "nbformat": 4,
 "nbformat_minor": 0
}
